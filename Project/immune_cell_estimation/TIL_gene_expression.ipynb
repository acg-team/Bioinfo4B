{
  "nbformat": 4,
  "nbformat_minor": 0,
  "metadata": {
    "colab": {
      "provenance": []
    },
    "kernelspec": {
      "name": "python3",
      "display_name": "Python 3"
    },
    "language_info": {
      "name": "python"
    }
  },
  "cells": [
    {
      "cell_type": "markdown",
      "source": [
        "# Task 2: Calculating Immunoscore for TCGA-COAD Gene Expression Data\n",
        "\n",
        "In this task, we will calculate the immunoscore for gene expression data from the TCGA-COAD dataset.\n",
        "\n",
        "## Using R Package tidyestimate\n",
        "\n",
        "We will utilize the **tidyestimate** R package, which implements the ESTIMATE algorithm as described in the paper by\n",
        "> Yoshihara, K., Shahmoradgoli, M., Martínez, E. et al., titled \"Inferring tumour purity and stromal and immune cell admixture from expression data,\" published in Nature Communications (2013). You can find the paper at this link: [Nat Commun 4, 2612 (2013)](https://doi.org/10.1038/ncomms3612).\n",
        "\n",
        "\n",
        "[Documentation for the package](https://cran.r-project.org/web/packages/tidyestimate/vignettes/using-tidyestimate.html)"
      ],
      "metadata": {
        "id": "VVshxZoOIMVr"
      }
    },
    {
      "cell_type": "code",
      "source": [
        "import pandas as pd\n",
        "from google.colab import drive\n",
        "drive.mount('/content/drive', force_remount=True)"
      ],
      "metadata": {
        "id": "1cIhVlOXIgxA"
      },
      "execution_count": null,
      "outputs": []
    },
    {
      "cell_type": "markdown",
      "source": [
        "# Gene expression"
      ],
      "metadata": {
        "id": "olVWYM2XJyjW"
      }
    },
    {
      "cell_type": "code",
      "source": [
        "gene_expression = pd.read_csv(\"/content/drive/MyDrive/count.csv\", index_col = 0)\n",
        "gene_expression.head()"
      ],
      "metadata": {
        "id": "WEQXDHlmJ1EL"
      },
      "execution_count": null,
      "outputs": []
    },
    {
      "cell_type": "markdown",
      "source": [
        "# ESTIMATE package\n",
        "ESTIMATE package is **R** package.\n",
        "We can use R with python with google colab!\n",
        "\n",
        "## First, start rmagic"
      ],
      "metadata": {
        "id": "T4B1FvObvwKT"
      }
    },
    {
      "cell_type": "code",
      "source": [
        "%load_ext rpy2.ipython"
      ],
      "metadata": {
        "id": "7VmPKEx6wCAD"
      },
      "execution_count": null,
      "outputs": []
    },
    {
      "cell_type": "markdown",
      "source": [
        "When we want to use R, we need to start with `%%R`\n",
        "\n",
        "Lets install package, required for immune cell estimation"
      ],
      "metadata": {
        "id": "qFronYLjwybJ"
      }
    },
    {
      "cell_type": "code",
      "source": [
        "%%R\n",
        "install.packages(\"tidyestimate\")"
      ],
      "metadata": {
        "id": "YIH3xNIYwFnS"
      },
      "execution_count": null,
      "outputs": []
    },
    {
      "cell_type": "code",
      "source": [
        "%%R\n",
        "# Import the library\n",
        "library(\"tidyestimate\")"
      ],
      "metadata": {
        "id": "U6LlWoYjxHtg"
      },
      "execution_count": null,
      "outputs": []
    },
    {
      "cell_type": "markdown",
      "source": [
        "Copy gene expression from python to R"
      ],
      "metadata": {
        "id": "RBVXzlmAyP8i"
      }
    },
    {
      "cell_type": "code",
      "source": [
        "%R -i gene_expression"
      ],
      "metadata": {
        "id": "OePM5Oo5yGOW"
      },
      "execution_count": null,
      "outputs": []
    },
    {
      "cell_type": "markdown",
      "source": [
        " Now you have to calculate immune scores based on gene expression data.\n",
        "\n",
        " Read the documentation of tidyestimate package ti understand how to do it"
      ],
      "metadata": {
        "id": "kjqyfzfBz6tT"
      }
    },
    {
      "cell_type": "code",
      "source": [
        "%%R\n",
        "scores <- # Calculate scores here"
      ],
      "metadata": {
        "id": "vqY5ckTbxK4Q"
      },
      "execution_count": null,
      "outputs": []
    },
    {
      "cell_type": "markdown",
      "source": [
        "Show you scores"
      ],
      "metadata": {
        "id": "YsgeFuOA0Ktt"
      }
    },
    {
      "cell_type": "code",
      "source": [
        "%%R\n",
        "head(scores)"
      ],
      "metadata": {
        "id": "fPy_ZGBRzvo1"
      },
      "execution_count": null,
      "outputs": []
    },
    {
      "cell_type": "markdown",
      "source": [
        "Now we have to copy variable from R to python again if we want to continue working with python."
      ],
      "metadata": {
        "id": "JJUiPwpQ0Tpx"
      }
    },
    {
      "cell_type": "code",
      "source": [
        "scores = %R scores\n",
        "scores"
      ],
      "metadata": {
        "id": "1aSd03yq0Zxd"
      },
      "execution_count": null,
      "outputs": []
    },
    {
      "cell_type": "markdown",
      "source": [
        "Analyze the scores the same way, as in Task 1 and compare the results."
      ],
      "metadata": {
        "id": "UVcSwOMH0iZ0"
      }
    }
  ]
}