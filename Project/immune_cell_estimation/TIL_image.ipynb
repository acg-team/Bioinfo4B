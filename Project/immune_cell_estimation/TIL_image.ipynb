{
  "nbformat": 4,
  "nbformat_minor": 0,
  "metadata": {
    "colab": {
      "provenance": [],
      "toc_visible": true
    },
    "kernelspec": {
      "name": "python3",
      "display_name": "Python 3"
    },
    "language_info": {
      "name": "python"
    }
  },
  "cells": [
    {
      "cell_type": "markdown",
      "source": [
        "# Task 1\n",
        "In this task, we will be analyzing data about immune cells in the TCGA-COAD dataset from slide data. Fortunately, we don't have to perform the analysis ourselves, as there are already results available from a deep learning study conducted in the following article:\n",
        "\n",
        "[Deep Learning Analysis of different TCGA Slides](https://www.sciencedirect.com/science/article/pii/S2211124718304479?via%3Dihub)\n",
        "\n",
        "This article provides valuable insights and results related to immune cell analysis in different datasets. We will refer to these findings to gain a deeper understanding of its implications for our analysis.\n"
      ],
      "metadata": {
        "id": "z26aTPzkAQlQ"
      }
    },
    {
      "cell_type": "markdown",
      "source": [
        "Lets download data from [this link](https://gdc.cancer.gov/about-data/publications/tilmap) and save file as `TIL_image.tsv`"
      ],
      "metadata": {
        "id": "Ut0xIGlMEWGp"
      }
    },
    {
      "cell_type": "code",
      "source": [
        "!wget -O TIL_image.xlsx https://api.gdc.cancer.gov/data/08096f8f-7b56-495a-be45-62d5a56f2ee8"
      ],
      "metadata": {
        "colab": {
          "base_uri": "https://localhost:8080/"
        },
        "id": "S5Vlm9PpAUol",
        "outputId": "eaaca0e2-38eb-4bf6-f0ad-b83ee54e0cd5"
      },
      "execution_count": null,
      "outputs": [
        {
          "output_type": "stream",
          "name": "stdout",
          "text": [
            "--2023-11-07 09:23:54--  https://api.gdc.cancer.gov/data/08096f8f-7b56-495a-be45-62d5a56f2ee8\n",
            "Resolving api.gdc.cancer.gov (api.gdc.cancer.gov)... 192.170.230.246, 2605:9a00:10:4008::102\n",
            "Connecting to api.gdc.cancer.gov (api.gdc.cancer.gov)|192.170.230.246|:443... connected.\n",
            "HTTP request sent, awaiting response... 200 OK\n",
            "Length: 1746174 (1.7M) [application/octet-stream]\n",
            "Saving to: ‘TIL_image.xlsx’\n",
            "\n",
            "TIL_image.xlsx      100%[===================>]   1.67M  8.02MB/s    in 0.2s    \n",
            "\n",
            "2023-11-07 09:23:54 (8.02 MB/s) - ‘TIL_image.xlsx’ saved [1746174/1746174]\n",
            "\n"
          ]
        }
      ]
    },
    {
      "cell_type": "code",
      "source": [
        "import pandas as pd"
      ],
      "metadata": {
        "id": "bkuRcd9pEhqP"
      },
      "execution_count": null,
      "outputs": []
    },
    {
      "cell_type": "code",
      "source": [
        "# Read downloaded file\n",
        "data = pd.read_excel(\"TIL_image.xlsx\")\n",
        "\n",
        "# Filter only COAD dataset\n",
        "data = data[data['Study'] == \"COAD\"]\n",
        "\n",
        "data"
      ],
      "metadata": {
        "id": "ratfqBbEEmN-"
      },
      "execution_count": null,
      "outputs": []
    },
    {
      "cell_type": "markdown",
      "source": [
        "In this lecture, we will explore the theory related to colorectal cancer, specifically focusing on MSI (Microsatellite Instability) and MSS (Microsatellite Stable) samples.\n",
        "\n",
        "**Our objective is to investigate whether there is a difference in the presence of Tumor-Infiltrating Lymphocytes (TIL) between these two groups.**\n",
        "\n",
        "First, we need MSS and MSI labels"
      ],
      "metadata": {
        "id": "vtHaId89HKgh"
      }
    },
    {
      "cell_type": "code",
      "source": [
        "from google.colab import drive\n",
        "drive.mount('/content/drive')"
      ],
      "metadata": {
        "colab": {
          "base_uri": "https://localhost:8080/"
        },
        "id": "HJ4KJJLcV3dd",
        "outputId": "3a939f67-f605-46ae-f011-2045d2fd5a9b"
      },
      "execution_count": null,
      "outputs": [
        {
          "output_type": "stream",
          "name": "stdout",
          "text": [
            "Drive already mounted at /content/drive; to attempt to forcibly remount, call drive.mount(\"/content/drive\", force_remount=True).\n"
          ]
        }
      ]
    },
    {
      "cell_type": "code",
      "source": [
        "# Read clinical information about samples with MSI/MSS status\n",
        "clinical = pd.read_csv(\"/content/drive/MyDrive/coad_clinical.csv\")\n",
        "\n",
        "clinical"
      ],
      "metadata": {
        "id": "qWwxTIOM1oE0"
      },
      "execution_count": null,
      "outputs": []
    },
    {
      "cell_type": "markdown",
      "source": [
        "## Approaches for Analysis\n",
        "\n",
        "To address this question, there are two main approaches we can employ:\n",
        "\n",
        "1. **Data Visualization**: We can create plots to visualize the distribution of TIL counts in both MSI and MSS samples. These visualizations can help us identify potential differences.\n",
        "\n",
        "2. **Statistical Testing**: We can perform statistical tests to determine if the observed differences, if any, are statistically significant. This will provide a more quantitative assessment."
      ],
      "metadata": {
        "id": "jnxDmgl9V49A"
      }
    }
  ]
}